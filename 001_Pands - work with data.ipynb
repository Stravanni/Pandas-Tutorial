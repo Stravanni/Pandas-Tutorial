{
 "metadata": {
  "name": "001_Preparazione dei dati - Pandas"
 },
 "nbformat": 3,
 "nbformat_minor": 0,
 "worksheets": [
  {
   "cells": [
    {
     "cell_type": "markdown",
     "metadata": {},
     "source": "<font color=\u201d#0000ff\u201d><b> Big Data Analysis </font></b>\n===\n## Outlines:\n### _Pandas_\n1. caricare dati da CSV\n2. lavorare con i DataFrame\n3. filling missing value\n4. features discretization/\n\n### _Scikit_\n5. classification\n6. regression"
    },
    {
     "cell_type": "code",
     "collapsed": false,
     "input": "from pandas import DataFrame, read_csv\nimport pandas as pd #only needed to determine version number",
     "language": "python",
     "metadata": {},
     "outputs": [],
     "prompt_number": 1
    },
    {
     "cell_type": "markdown",
     "metadata": {},
     "source": "## Lettura da .csv"
    },
    {
     "cell_type": "code",
     "collapsed": false,
     "input": "df = read_csv('./automobile.csv', header=None)\n#df",
     "language": "python",
     "metadata": {},
     "outputs": [],
     "prompt_number": 2
    },
    {
     "cell_type": "markdown",
     "metadata": {},
     "source": "## Informazioni sulla sorgente"
    },
    {
     "cell_type": "raw",
     "metadata": {},
     "source": "# Title: 1985 Auto Imports Database\n\n#### Source Information:\n   -- Creator/Donor: Jeffrey C. Schlimmer (Jeffrey.Schlimmer@a.gp.cs.cmu.edu)\n   -- Date: 19 May 1987\n   -- Sources:\n     1) 1985 Model Import Car and Truck Specifications, 1985 Ward's\n        Automotive Yearbook.\n     2) Personal Auto Manuals, Insurance Services Office, 160 Water\n        Street, New York, NY 10038 \n     3) Insurance Collision Report, Insurance Institute for Highway\n        Safety, Watergate 600, Washington, DC 20037\n\n#### Past Usage:\n   -- Kibler,~D., Aha,~D.~W., \\& Albert,~M. (1989).  Instance-based prediction\n      of real-valued attributes.  {\\it Computational Intelligence}, {\\it 5},\n      51--57.\n\t -- Predicted price of car using all numeric and Boolean attributes\n\t -- Method: an instance-based learning (IBL) algorithm derived from a\n\t    localized k-nearest neighbor algorithm.  Compared with a\n\t    linear regression prediction...so all instances\n\t    with missing attribute values were discarded.  This resulted with\n\t    a training set of 159 instances, which was also used as a test\n\t    set (minus the actual instance during testing).\n\t -- Results: Percent Average Deviation Error of Prediction from Actual\n\t    -- 11.84% for the IBL algorithm\n\t    -- 14.12% for the resulting linear regression equation\n\n#### Relevant Information:\n   -- Description\n      This data set consists of three types of entities:\n      (a) the specification of an auto in terms of various characteristics,\n      (b) its assigned insurance risk rating,\n      (c) its normalized losses in use as compared to other cars.\n      \n      The second rating corresponds to the degree to which the auto is more risky than its price indicates.\n      Cars are initially assigned a risk factor symbol associated with its price. Then, if it is more risky (or less), this symbol is\n      adjusted by moving it up (or down) the scale.\n      Actuarians call this process \"symboling\". A value of +3 indicates that the auto is risky, -3 that it is probably pretty safe.\n\n      The third factor is the relative average loss payment per insured vehicle year.  This value is normalized for all autos within a particular size classification (two-door small, station wagons, sports/speciality, etc...), and represents the average loss per car per year.\n\n   -- Note: Several of the attributes in the database could be used as a\n            \"class\" attribute.\n\n#### Number of Instances: 205\n\n#### Number of Attributes: 26 total\n   -- 15 continuous\n   -- 1 integer\n   -- 10 nominal\n\n#### Attribute Information:     \n     Attribute:                Attribute Range:\n     \n  1. symboling:                -3, -2, -1, 0, 1, 2, 3.\n  2. normalized-losses:        continuous from 65 to 256.\n  3. make:                     alfa-romero, audi, bmw, chevrolet, dodge, honda,\n                               isuzu, jaguar, mazda, mercedes-benz, mercury,\n                               mitsubishi, nissan, peugot, plymouth, porsche,\n                               renault, saab, subaru, toyota, volkswagen, volvo\n  4. fuel-type:                diesel, gas.\n  5. aspiration:               std, turbo.\n  6. num-of-doors:             four, two.\n  7. body-style:               hardtop, wagon, sedan, hatchback, convertible.\n  8. drive-wheels:             4wd, fwd, rwd.\n  9. engine-location:          front, rear.\n 10. wheel-base:               continuous from 86.6 120.9.\n 11. length:                   continuous from 141.1 to 208.1.\n 12. width:                    continuous from 60.3 to 72.3.\n 13. height:                   continuous from 47.8 to 59.8.\n 14. curb-weight:              continuous from 1488 to 4066.\n 15. engine-type:              dohc, dohcv, l, ohc, ohcf, ohcv, rotor.\n 16. num-of-cylinders:         eight, five, four, six, three, twelve, two.\n 17. engine-size:              continuous from 61 to 326.\n 18. fuel-system:              1bbl, 2bbl, 4bbl, idi, mfi, mpfi, spdi, spfi.\n 19. bore:                     continuous from 2.54 to 3.94.\n 20. stroke:                   continuous from 2.07 to 4.17.\n 21. compression-ratio:        continuous from 7 to 23.\n 22. horsepower:               continuous from 48 to 288.\n 23. peak-rpm:                 continuous from 4150 to 6600.\n 24. city-mpg:                 continuous from 13 to 49.\n 25. highway-mpg:              continuous from 16 to 54.\n 26. price:                    continuous from 5118 to 45400.\n\n#### Missing Attribute Values: (denoted by \"?\")\n   Attribute :   Number of instances missing a value:\n   2.             41\n   6.             2\n   19.            4\n   20.            4\n   22.            2\n   23.            2\n   26.            4"
    },
    {
     "cell_type": "markdown",
     "metadata": {},
     "source": "## DataFrame \nE' una struttura bidimensionale. Ogni attributo viene rappresentato da una colonna, quindi ogni riga rappresenta un record."
    },
    {
     "cell_type": "code",
     "collapsed": false,
     "input": "# percentile_width\ndf.describe(percentile_width=50)",
     "language": "python",
     "metadata": {},
     "outputs": [
      {
       "html": "<div style=\"max-height:1000px;max-width:1500px;overflow:auto;\">\n<table border=\"1\" class=\"dataframe\">\n  <thead>\n    <tr style=\"text-align: right;\">\n      <th></th>\n      <th>0</th>\n      <th>9</th>\n      <th>10</th>\n      <th>11</th>\n      <th>12</th>\n      <th>13</th>\n      <th>16</th>\n      <th>20</th>\n      <th>23</th>\n      <th>24</th>\n    </tr>\n  </thead>\n  <tbody>\n    <tr>\n      <th>count</th>\n      <td> 205.000000</td>\n      <td> 205.000000</td>\n      <td> 205.000000</td>\n      <td> 205.000000</td>\n      <td> 205.000000</td>\n      <td>  205.000000</td>\n      <td> 205.000000</td>\n      <td> 205.000000</td>\n      <td> 205.000000</td>\n      <td> 205.000000</td>\n    </tr>\n    <tr>\n      <th>mean</th>\n      <td>   0.834146</td>\n      <td>  98.756585</td>\n      <td> 174.049268</td>\n      <td>  65.907805</td>\n      <td>  53.724878</td>\n      <td> 2555.565854</td>\n      <td> 126.907317</td>\n      <td>  10.142537</td>\n      <td>  25.219512</td>\n      <td>  30.751220</td>\n    </tr>\n    <tr>\n      <th>std</th>\n      <td>   1.245307</td>\n      <td>   6.021776</td>\n      <td>  12.337289</td>\n      <td>   2.145204</td>\n      <td>   2.443522</td>\n      <td>  520.680204</td>\n      <td>  41.642693</td>\n      <td>   3.972040</td>\n      <td>   6.542142</td>\n      <td>   6.886443</td>\n    </tr>\n    <tr>\n      <th>min</th>\n      <td>  -2.000000</td>\n      <td>  86.600000</td>\n      <td> 141.100000</td>\n      <td>  60.300000</td>\n      <td>  47.800000</td>\n      <td> 1488.000000</td>\n      <td>  61.000000</td>\n      <td>   7.000000</td>\n      <td>  13.000000</td>\n      <td>  16.000000</td>\n    </tr>\n    <tr>\n      <th>25%</th>\n      <td>   0.000000</td>\n      <td>  94.500000</td>\n      <td> 166.300000</td>\n      <td>  64.100000</td>\n      <td>  52.000000</td>\n      <td> 2145.000000</td>\n      <td>  97.000000</td>\n      <td>   8.600000</td>\n      <td>  19.000000</td>\n      <td>  25.000000</td>\n    </tr>\n    <tr>\n      <th>50%</th>\n      <td>   1.000000</td>\n      <td>  97.000000</td>\n      <td> 173.200000</td>\n      <td>  65.500000</td>\n      <td>  54.100000</td>\n      <td> 2414.000000</td>\n      <td> 120.000000</td>\n      <td>   9.000000</td>\n      <td>  24.000000</td>\n      <td>  30.000000</td>\n    </tr>\n    <tr>\n      <th>75%</th>\n      <td>   2.000000</td>\n      <td> 102.400000</td>\n      <td> 183.100000</td>\n      <td>  66.900000</td>\n      <td>  55.500000</td>\n      <td> 2935.000000</td>\n      <td> 141.000000</td>\n      <td>   9.400000</td>\n      <td>  30.000000</td>\n      <td>  34.000000</td>\n    </tr>\n    <tr>\n      <th>max</th>\n      <td>   3.000000</td>\n      <td> 120.900000</td>\n      <td> 208.100000</td>\n      <td>  72.300000</td>\n      <td>  59.800000</td>\n      <td> 4066.000000</td>\n      <td> 326.000000</td>\n      <td>  23.000000</td>\n      <td>  49.000000</td>\n      <td>  54.000000</td>\n    </tr>\n  </tbody>\n</table>\n</div>",
       "output_type": "pyout",
       "prompt_number": 3,
       "text": "               0           9           10          11          12           13          16          20          23          24\ncount  205.000000  205.000000  205.000000  205.000000  205.000000   205.000000  205.000000  205.000000  205.000000  205.000000\nmean     0.834146   98.756585  174.049268   65.907805   53.724878  2555.565854  126.907317   10.142537   25.219512   30.751220\nstd      1.245307    6.021776   12.337289    2.145204    2.443522   520.680204   41.642693    3.972040    6.542142    6.886443\nmin     -2.000000   86.600000  141.100000   60.300000   47.800000  1488.000000   61.000000    7.000000   13.000000   16.000000\n25%      0.000000   94.500000  166.300000   64.100000   52.000000  2145.000000   97.000000    8.600000   19.000000   25.000000\n50%      1.000000   97.000000  173.200000   65.500000   54.100000  2414.000000  120.000000    9.000000   24.000000   30.000000\n75%      2.000000  102.400000  183.100000   66.900000   55.500000  2935.000000  141.000000    9.400000   30.000000   34.000000\nmax      3.000000  120.900000  208.100000   72.300000   59.800000  4066.000000  326.000000   23.000000   49.000000   54.000000"
      }
     ],
     "prompt_number": 3
    },
    {
     "cell_type": "markdown",
     "metadata": {},
     "source": "## Inserisco i nomi delle colonne del data-frame di Pandas"
    },
    {
     "cell_type": "code",
     "collapsed": false,
     "input": "column_names = read_csv('./names.csv',header=None)\ncolumn_names[0].values",
     "language": "python",
     "metadata": {},
     "outputs": [
      {
       "output_type": "pyout",
       "prompt_number": 4,
       "text": "array(['symboling', 'normalized-losses', 'make', 'fuel-type', 'aspiration',\n       'num-of-doors', 'body-style', 'drive-wheels', 'engine-location',\n       'wheel-base', 'length', 'width', 'height', 'curb-weight',\n       'engine-type', 'num-of-cylinders', 'engine-size', 'fuel-system',\n       'bore', 'stroke', 'compression-ratio', 'horsepower', 'peak-rpm',\n       'city-mpg', 'highway-mpg', 'price'], dtype=object)"
      }
     ],
     "prompt_number": 4
    },
    {
     "cell_type": "code",
     "collapsed": false,
     "input": "df.columns.values",
     "language": "python",
     "metadata": {},
     "outputs": [
      {
       "output_type": "pyout",
       "prompt_number": 5,
       "text": "array([ 0,  1,  2,  3,  4,  5,  6,  7,  8,  9, 10, 11, 12, 13, 14, 15, 16,\n       17, 18, 19, 20, 21, 22, 23, 24, 25])"
      }
     ],
     "prompt_number": 5
    },
    {
     "cell_type": "code",
     "collapsed": false,
     "input": "# Assegno dei label a ogni colonna\ndf.columns = column_names[0].values",
     "language": "python",
     "metadata": {},
     "outputs": [],
     "prompt_number": 6
    },
    {
     "cell_type": "markdown",
     "metadata": {},
     "source": "<font color=\u201d#0000ff\u201d><b> Ora se si torna ad eseguire df.describe()</font></b>"
    },
    {
     "cell_type": "code",
     "collapsed": false,
     "input": "df.bore.replace('?',np.nan, inplace = True)\ntype(df.bore[0])",
     "language": "python",
     "metadata": {},
     "outputs": [
      {
       "output_type": "pyout",
       "prompt_number": 7,
       "text": "str"
      }
     ],
     "prompt_number": 7
    },
    {
     "cell_type": "code",
     "collapsed": false,
     "input": "df.bore = df.bore.astype(np.float)\ntype(df.bore[0])",
     "language": "python",
     "metadata": {},
     "outputs": [
      {
       "output_type": "pyout",
       "prompt_number": 8,
       "text": "numpy.float64"
      }
     ],
     "prompt_number": 8
    },
    {
     "cell_type": "markdown",
     "metadata": {},
     "source": "<font color=\"#0000FF\">\n    \nDescrizione di **df.bore**\n    \n    df.bore.describe()\n\nValore massimo\n    \n    df.bore.max()\n\nID del valore massimo (posizione nell'array [*series*] **df.bore**)\n    \n    df.bore.idxmax()\n\n</font>"
    },
    {
     "cell_type": "code",
     "collapsed": false,
     "input": "df.bore.describe()",
     "language": "python",
     "metadata": {},
     "outputs": [
      {
       "output_type": "pyout",
       "prompt_number": 9,
       "text": "count    201.000000\nmean       3.329751\nstd        0.273539\nmin        2.540000\n25%        3.150000\n50%        3.310000\n75%        3.590000\nmax        3.940000\ndtype: float64"
      }
     ],
     "prompt_number": 9
    },
    {
     "cell_type": "code",
     "collapsed": false,
     "input": "df.bore.max()",
     "language": "python",
     "metadata": {},
     "outputs": [
      {
       "output_type": "pyout",
       "prompt_number": 10,
       "text": "3.9399999999999999"
      }
     ],
     "prompt_number": 10
    },
    {
     "cell_type": "code",
     "collapsed": false,
     "input": "df.bore.idxmax()",
     "language": "python",
     "metadata": {},
     "outputs": [
      {
       "output_type": "pyout",
       "prompt_number": 11,
       "text": "125"
      }
     ],
     "prompt_number": 11
    },
    {
     "cell_type": "code",
     "collapsed": false,
     "input": "df.bore[125]",
     "language": "python",
     "metadata": {},
     "outputs": [
      {
       "output_type": "pyout",
       "prompt_number": 12,
       "text": "3.9399999999999999"
      }
     ],
     "prompt_number": 12
    },
    {
     "cell_type": "code",
     "collapsed": false,
     "input": "df.bore.isnull().any()",
     "language": "python",
     "metadata": {},
     "outputs": [
      {
       "output_type": "pyout",
       "prompt_number": 13,
       "text": "True"
      }
     ],
     "prompt_number": 13
    },
    {
     "cell_type": "markdown",
     "metadata": {},
     "source": "<font color=\u201d#0000ff\u201d><b> Ora se si torna ad eseguire df.describe(), verr\u00e0 considerato anceh il campo 'bore' </font></b>"
    },
    {
     "cell_type": "code",
     "collapsed": false,
     "input": "type(df.values)\ndf[0:2].values",
     "language": "python",
     "metadata": {},
     "outputs": [
      {
       "output_type": "pyout",
       "prompt_number": 14,
       "text": "array([[3, '?', 'alfa-romero', 'gas', 'std', 'two', 'convertible', 'rwd',\n        'front', 88.6, 168.8, 64.1, 48.8, 2548, 'dohc', 'four', 130,\n        'mpfi', 3.47, '2.68', 9.0, '111', '5000', 21, 27, '13495'],\n       [3, '?', 'alfa-romero', 'gas', 'std', 'two', 'convertible', 'rwd',\n        'front', 88.6, 168.8, 64.1, 48.8, 2548, 'dohc', 'four', 130,\n        'mpfi', 3.47, '2.68', 9.0, '111', '5000', 21, 27, '16500']], dtype=object)"
      }
     ],
     "prompt_number": 14
    },
    {
     "cell_type": "code",
     "collapsed": false,
     "input": "df['wheel-base'][0:10].values",
     "language": "python",
     "metadata": {},
     "outputs": [
      {
       "output_type": "pyout",
       "prompt_number": 15,
       "text": "array([  88.6,   88.6,   94.5,   99.8,   99.4,   99.8,  105.8,  105.8,\n        105.8,   99.5])"
      }
     ],
     "prompt_number": 15
    },
    {
     "cell_type": "code",
     "collapsed": false,
     "input": "type(df['wheel-base'].values)",
     "language": "python",
     "metadata": {},
     "outputs": [
      {
       "output_type": "pyout",
       "prompt_number": 16,
       "text": "numpy.ndarray"
      }
     ],
     "prompt_number": 16
    },
    {
     "cell_type": "code",
     "collapsed": false,
     "input": "column_names[:5]",
     "language": "python",
     "metadata": {},
     "outputs": [
      {
       "html": "<div style=\"max-height:1000px;max-width:1500px;overflow:auto;\">\n<table border=\"1\" class=\"dataframe\">\n  <thead>\n    <tr style=\"text-align: right;\">\n      <th></th>\n      <th>0</th>\n    </tr>\n  </thead>\n  <tbody>\n    <tr>\n      <th>0</th>\n      <td>         symboling</td>\n    </tr>\n    <tr>\n      <th>1</th>\n      <td> normalized-losses</td>\n    </tr>\n    <tr>\n      <th>2</th>\n      <td>              make</td>\n    </tr>\n    <tr>\n      <th>3</th>\n      <td>         fuel-type</td>\n    </tr>\n    <tr>\n      <th>4</th>\n      <td>        aspiration</td>\n    </tr>\n  </tbody>\n</table>\n</div>",
       "output_type": "pyout",
       "prompt_number": 17,
       "text": "                   0\n0          symboling\n1  normalized-losses\n2               make\n3          fuel-type\n4         aspiration"
      }
     ],
     "prompt_number": 17
    },
    {
     "cell_type": "code",
     "collapsed": false,
     "input": "size(df.make)",
     "language": "python",
     "metadata": {},
     "outputs": [
      {
       "output_type": "pyout",
       "prompt_number": 18,
       "text": "205"
      }
     ],
     "prompt_number": 18
    },
    {
     "cell_type": "code",
     "collapsed": false,
     "input": "#df['make'].describe()\ndf.make.describe()",
     "language": "python",
     "metadata": {},
     "outputs": [
      {
       "output_type": "pyout",
       "prompt_number": 19,
       "text": "count        205\nunique        22\ntop       toyota\nfreq          32\ndtype: object"
      }
     ],
     "prompt_number": 19
    },
    {
     "cell_type": "code",
     "collapsed": false,
     "input": "size(df.make.unique())",
     "language": "python",
     "metadata": {},
     "outputs": [
      {
       "output_type": "pyout",
       "prompt_number": 20,
       "text": "22"
      }
     ],
     "prompt_number": 20
    },
    {
     "cell_type": "code",
     "collapsed": false,
     "input": "df.make.unique()",
     "language": "python",
     "metadata": {},
     "outputs": [
      {
       "output_type": "pyout",
       "prompt_number": 21,
       "text": "array(['alfa-romero', 'audi', 'bmw', 'chevrolet', 'dodge', 'honda',\n       'isuzu', 'jaguar', 'mazda', 'mercedes-benz', 'mercury',\n       'mitsubishi', 'nissan', 'peugot', 'plymouth', 'porsche', 'renault',\n       'saab', 'subaru', 'toyota', 'volkswagen', 'volvo'], dtype=object)"
      }
     ],
     "prompt_number": 21
    },
    {
     "cell_type": "code",
     "collapsed": false,
     "input": "df['symboling'].median()",
     "language": "python",
     "metadata": {},
     "outputs": [
      {
       "output_type": "pyout",
       "prompt_number": 23,
       "text": "1.0"
      }
     ],
     "prompt_number": 23
    },
    {
     "cell_type": "code",
     "collapsed": false,
     "input": "#df.replace?\ndf = df.replace('?',np.nan)",
     "language": "python",
     "metadata": {},
     "outputs": [],
     "prompt_number": 24
    },
    {
     "cell_type": "markdown",
     "metadata": {},
     "source": "## normalized-losses\n\nsostituire il valore con il valore medio, ma per quella determinato \"engine-type\n#### Fill missing values:\n1. general technique: **fillna()**\n2. advanced technique: **groupby() + fillna()**"
    },
    {
     "cell_type": "code",
     "collapsed": false,
     "input": "df['normalized-losses']=df['normalized-losses'].astype(np.float)",
     "language": "python",
     "metadata": {},
     "outputs": [],
     "prompt_number": 25
    },
    {
     "cell_type": "code",
     "collapsed": false,
     "input": "# backup di df\nbkp = df.copy()",
     "language": "python",
     "metadata": {},
     "outputs": [],
     "prompt_number": 26
    },
    {
     "cell_type": "code",
     "collapsed": false,
     "input": "df['normalized-losses'][0:5]",
     "language": "python",
     "metadata": {},
     "outputs": [
      {
       "output_type": "pyout",
       "prompt_number": 27,
       "text": "0    NaN\n1    NaN\n2    NaN\n3    164\n4    164\nName: normalized-losses, dtype: float64"
      }
     ],
     "prompt_number": 27
    },
    {
     "cell_type": "markdown",
     "metadata": {},
     "source": "---\n### ripristino df da backup"
    },
    {
     "cell_type": "code",
     "collapsed": false,
     "input": "df=bkp.copy()",
     "language": "python",
     "metadata": {},
     "outputs": [],
     "prompt_number": 28
    },
    {
     "cell_type": "markdown",
     "metadata": {},
     "source": "---"
    },
    {
     "cell_type": "code",
     "collapsed": false,
     "input": "#print(df[df['normalized-losses'].isnull()].normalized-losses)\n#print(df[df['normalized-losses'].isnull()])\n#print(df['normalized-losses'].isnull())\n#df.price[8:11]\ndf['normalized-losses'][0:5]",
     "language": "python",
     "metadata": {},
     "outputs": [
      {
       "output_type": "pyout",
       "prompt_number": 29,
       "text": "0    NaN\n1    NaN\n2    NaN\n3    164\n4    164\nName: normalized-losses, dtype: float64"
      }
     ],
     "prompt_number": 29
    },
    {
     "cell_type": "markdown",
     "metadata": {},
     "source": "<font color=\u201d#0000ff\u201d><b> Primo metodo</font></b>"
    },
    {
     "cell_type": "code",
     "collapsed": false,
     "input": "median_ = df['normalized-losses'].median()\n#print(df['normalized-losses'].isnull())\ndf['normalized-losses'][df['normalized-losses'].isnull()] = median_",
     "language": "python",
     "metadata": {},
     "outputs": [],
     "prompt_number": 30
    },
    {
     "cell_type": "markdown",
     "metadata": {},
     "source": "<font color=\u201d#0000ff\u201d> Metodo alternativo equivalente </font>"
    },
    {
     "cell_type": "code",
     "collapsed": false,
     "input": "# Alternative method (equivalent):\nmedian_ = df['normalized-losses'].median()\ndf['normalized-losses']=df['normalized-losses'].fillna(median_)",
     "language": "python",
     "metadata": {},
     "outputs": [],
     "prompt_number": 31
    },
    {
     "cell_type": "code",
     "collapsed": false,
     "input": "df['normalized-losses'].isnull().any()",
     "language": "python",
     "metadata": {},
     "outputs": [
      {
       "output_type": "pyout",
       "prompt_number": 32,
       "text": "False"
      }
     ],
     "prompt_number": 32
    },
    {
     "cell_type": "markdown",
     "metadata": {},
     "source": "<font color=\u201d#0000ff\u201d><b> Secondo metodo, con raggruppamento </font></b>"
    },
    {
     "cell_type": "code",
     "collapsed": false,
     "input": "# Metodo da inseire pi\u00f9 avanti\ngf = df.groupby('engine-type')['normalized-losses']",
     "language": "python",
     "metadata": {},
     "outputs": [],
     "prompt_number": 33
    },
    {
     "cell_type": "code",
     "collapsed": false,
     "input": "gf.groups.viewkeys()",
     "language": "python",
     "metadata": {},
     "outputs": [
      {
       "output_type": "pyout",
       "prompt_number": 34,
       "text": "dict_keys(['rotor', 'dohc', 'ohcf', 'l', 'ohc', 'dohcv', 'ohcv'])"
      }
     ],
     "prompt_number": 34
    },
    {
     "cell_type": "code",
     "collapsed": false,
     "input": "# quanti gruppi ha creato?\nlen(gf)",
     "language": "python",
     "metadata": {},
     "outputs": [
      {
       "output_type": "pyout",
       "prompt_number": 35,
       "text": "7"
      }
     ],
     "prompt_number": 35
    },
    {
     "cell_type": "code",
     "collapsed": false,
     "input": "# gf.<TAB> mi mostra tutti gli hints\ngf.get_group('ohcf').head()",
     "language": "python",
     "metadata": {},
     "outputs": [
      {
       "output_type": "pyout",
       "prompt_number": 36,
       "text": "126    115\n127    115\n128    115\n138     83\n139     83\nName: normalized-losses, dtype: float64"
      }
     ],
     "prompt_number": 36
    },
    {
     "cell_type": "code",
     "collapsed": false,
     "input": "#gf.describe()",
     "language": "python",
     "metadata": {},
     "outputs": [],
     "prompt_number": 37
    },
    {
     "cell_type": "code",
     "collapsed": false,
     "input": "gf.mean()",
     "language": "python",
     "metadata": {},
     "outputs": [
      {
       "output_type": "pyout",
       "prompt_number": 38,
       "text": "engine-type\ndohc           139.916667\ndohcv          115.000000\nl              142.333333\nohc            117.527027\nohcf            96.800000\nohcv           136.538462\nrotor          150.000000\nName: normalized-losses, dtype: float64"
      }
     ],
     "prompt_number": 38
    },
    {
     "cell_type": "code",
     "collapsed": false,
     "input": "gf.get_group('dohcv')",
     "language": "python",
     "metadata": {},
     "outputs": [
      {
       "output_type": "pyout",
       "prompt_number": 39,
       "text": "129    115\nName: normalized-losses, dtype: float64"
      }
     ],
     "prompt_number": 39
    },
    {
     "cell_type": "code",
     "collapsed": false,
     "input": "data = gf.transform(lambda x: x.fillna(x.mean()))",
     "language": "python",
     "metadata": {},
     "outputs": [],
     "prompt_number": 40
    },
    {
     "cell_type": "code",
     "collapsed": false,
     "input": "df['normalized-losses'] = data",
     "language": "python",
     "metadata": {},
     "outputs": [],
     "prompt_number": 41
    },
    {
     "cell_type": "code",
     "collapsed": false,
     "input": "# Ci sono ancora valori nulli?\n#df['normalized-losses'].isnull().any()\ndf['normalized-losses'].notnull().all()",
     "language": "python",
     "metadata": {},
     "outputs": [
      {
       "output_type": "pyout",
       "prompt_number": 42,
       "text": "True"
      }
     ],
     "prompt_number": 42
    },
    {
     "cell_type": "markdown",
     "metadata": {},
     "source": "### num-of-doors\n\nSostituiamo i campi vuoti di un attributo di tipo 'str' con il valore (sempre di tipo 'str') che compare pi\u00f9 volte"
    },
    {
     "cell_type": "code",
     "collapsed": false,
     "input": "df['num-of-doors'][26:29]",
     "language": "python",
     "metadata": {},
     "outputs": [
      {
       "output_type": "pyout",
       "prompt_number": 43,
       "text": "26    four\n27     NaN\n28    four\nName: num-of-doors, dtype: object"
      }
     ],
     "prompt_number": 43
    },
    {
     "cell_type": "code",
     "collapsed": false,
     "input": "df['num-of-doors'].describe()",
     "language": "python",
     "metadata": {},
     "outputs": [
      {
       "output_type": "pyout",
       "prompt_number": 44,
       "text": "count      203\nunique       2\ntop       four\nfreq       114\ndtype: object"
      }
     ],
     "prompt_number": 44
    },
    {
     "cell_type": "code",
     "collapsed": false,
     "input": "df['num-of-doors'].value_counts().index",
     "language": "python",
     "metadata": {},
     "outputs": [
      {
       "output_type": "pyout",
       "prompt_number": 45,
       "text": "Index([u'four', u'two'], dtype=object)"
      }
     ],
     "prompt_number": 45
    },
    {
     "cell_type": "markdown",
     "metadata": {},
     "source": "---\n#### num-of-doors\n\nPer contare i valori:\n\n*`df['num-of-doors'].value_counts()`*\n\nrestituisce i valori in ordine di conteggio decrescente\n\n*`df['num-of-doors'].value_counts().index[0]`*"
    },
    {
     "cell_type": "code",
     "collapsed": false,
     "input": "df['num-of-doors'] = df['num-of-doors'].fillna(df['num-of-doors'].value_counts().index[0])",
     "language": "python",
     "metadata": {},
     "outputs": [],
     "prompt_number": 46
    },
    {
     "cell_type": "code",
     "collapsed": false,
     "input": "# ordine decrescente\ndf['num-of-doors'].value_counts().index",
     "language": "python",
     "metadata": {},
     "outputs": [
      {
       "output_type": "pyout",
       "prompt_number": 49,
       "text": "Index([u'four', u'two'], dtype=object)"
      }
     ],
     "prompt_number": 49
    },
    {
     "cell_type": "code",
     "collapsed": false,
     "input": "#df['num-of-doors'] == 'two'",
     "language": "python",
     "metadata": {},
     "outputs": [],
     "prompt_number": 50
    },
    {
     "cell_type": "code",
     "collapsed": false,
     "input": "df['num-of-doors'].value_counts()",
     "language": "python",
     "metadata": {},
     "outputs": [
      {
       "output_type": "pyout",
       "prompt_number": 51,
       "text": "four    116\ntwo      89\ndtype: int64"
      }
     ],
     "prompt_number": 51
    },
    {
     "cell_type": "code",
     "collapsed": false,
     "input": "df['num-of-doors'][df['num-of-doors']=='two'] = 1 ",
     "language": "python",
     "metadata": {},
     "outputs": [],
     "prompt_number": 52
    },
    {
     "cell_type": "code",
     "collapsed": false,
     "input": "df['num-of-doors'][df['num-of-doors']=='four'] = 0 ",
     "language": "python",
     "metadata": {},
     "outputs": [],
     "prompt_number": 53
    },
    {
     "cell_type": "markdown",
     "metadata": {},
     "source": "---\n### horsepower"
    },
    {
     "cell_type": "code",
     "collapsed": false,
     "input": "df.horsepower.describe()",
     "language": "python",
     "metadata": {},
     "outputs": [
      {
       "output_type": "pyout",
       "prompt_number": 54,
       "text": "count     203\nunique     59\ntop        68\nfreq       19\ndtype: object"
      }
     ],
     "prompt_number": 54
    },
    {
     "cell_type": "code",
     "collapsed": false,
     "input": "df.horsepower = df.horsepower.astype(float)",
     "language": "python",
     "metadata": {},
     "outputs": [],
     "prompt_number": 55
    },
    {
     "cell_type": "code",
     "collapsed": false,
     "input": "bkp_horsepower = df.horsepower",
     "language": "python",
     "metadata": {},
     "outputs": [],
     "prompt_number": 56
    },
    {
     "cell_type": "markdown",
     "metadata": {},
     "source": "---"
    },
    {
     "cell_type": "code",
     "collapsed": false,
     "input": "# backup\ndf.horsepower = bkp_horsepower",
     "language": "python",
     "metadata": {},
     "outputs": [],
     "prompt_number": 74
    },
    {
     "cell_type": "markdown",
     "metadata": {},
     "source": "---\n\n## Discretizzazione\n\n#### Prendiamo un attributo continuo e lo discretizziamo\n\n---\n### Taglio\n    cut()\ndividere l'array in 4 parti; ogni parte ha un range uguale"
    },
    {
     "cell_type": "code",
     "collapsed": false,
     "input": "df.horsepower = bkp_horsepower",
     "language": "python",
     "metadata": {},
     "outputs": [],
     "prompt_number": 75
    },
    {
     "cell_type": "code",
     "collapsed": false,
     "input": "df.horsepower = pd.cut(df.horsepower, 4)",
     "language": "python",
     "metadata": {},
     "outputs": [],
     "prompt_number": 76
    },
    {
     "cell_type": "code",
     "collapsed": false,
     "input": "df.horsepower.value_counts()",
     "language": "python",
     "metadata": {},
     "outputs": [
      {
       "output_type": "pyout",
       "prompt_number": 77,
       "text": "(47.76, 108]    123\n(108, 168]       66\n(168, 228]       12\n(228, 288]        2\ndtype: int64"
      }
     ],
     "prompt_number": 77
    },
    {
     "cell_type": "markdown",
     "metadata": {},
     "source": "###Quantili\n\nDivide la popolazione i 4 parti uguali\n\n    qcut()\ndividere l'array per quantili. Si pu\u00f2 dare in input un valore di quantili che si vogliono ottenere, oppire un array di quantili."
    },
    {
     "cell_type": "code",
     "collapsed": false,
     "input": "df.horsepower = bkp_horsepower",
     "language": "python",
     "metadata": {},
     "outputs": [],
     "prompt_number": 78
    },
    {
     "cell_type": "code",
     "collapsed": false,
     "input": "df.horsepower.value_counts().head()",
     "language": "python",
     "metadata": {},
     "outputs": [
      {
       "output_type": "pyout",
       "prompt_number": 79,
       "text": "68     19\n70     11\n69     10\n116     9\n110     8\ndtype: int64"
      }
     ],
     "prompt_number": 79
    },
    {
     "cell_type": "code",
     "collapsed": false,
     "input": "df.horsepower = pd.qcut(df.horsepower, [0., .25, .5, .75, 1. ])",
     "language": "python",
     "metadata": {},
     "outputs": [],
     "prompt_number": 80
    },
    {
     "cell_type": "code",
     "collapsed": false,
     "input": "df.horsepower.value_counts()",
     "language": "python",
     "metadata": {},
     "outputs": [
      {
       "output_type": "pyout",
       "prompt_number": 81,
       "text": "[48, 70]      55\n(116, 288]    50\n(70, 95]      49\n(95, 116]     49\ndtype: int64"
      }
     ],
     "prompt_number": 81
    },
    {
     "cell_type": "code",
     "collapsed": false,
     "input": "df.horsepower.isnull().any()",
     "language": "python",
     "metadata": {},
     "outputs": [
      {
       "output_type": "pyout",
       "prompt_number": 82,
       "text": "True"
      }
     ],
     "prompt_number": 82
    },
    {
     "cell_type": "markdown",
     "metadata": {},
     "source": "---"
    },
    {
     "cell_type": "code",
     "collapsed": false,
     "input": "# ripristino da backup\ndf.horsepower = bkp_horsepower",
     "language": "python",
     "metadata": {},
     "outputs": [],
     "prompt_number": 83
    },
    {
     "cell_type": "code",
     "collapsed": false,
     "input": "# COMMENTA:\ndf.horsepower = df.horsepower.fillna(df.horsepower.median())",
     "language": "python",
     "metadata": {},
     "outputs": [],
     "prompt_number": 84
    },
    {
     "cell_type": "code",
     "collapsed": false,
     "input": "df.horsepower.isnull().any()",
     "language": "python",
     "metadata": {},
     "outputs": [
      {
       "output_type": "pyout",
       "prompt_number": 85,
       "text": "False"
      }
     ],
     "prompt_number": 85
    },
    {
     "cell_type": "code",
     "collapsed": false,
     "input": "# Posso definire anche il numero di quantili e i raggruppamenti verranno generati automaticamente\ndf.horsepower = pd.qcut(df.horsepower, 4)",
     "language": "python",
     "metadata": {},
     "outputs": [],
     "prompt_number": 86
    },
    {
     "cell_type": "code",
     "collapsed": false,
     "input": "df.horsepower.describe()",
     "language": "python",
     "metadata": {},
     "outputs": [
      {
       "output_type": "pyout",
       "prompt_number": 87,
       "text": "count          205\nunique           4\ntop       [48, 70]\nfreq            55\ndtype: object"
      }
     ],
     "prompt_number": 87
    },
    {
     "cell_type": "code",
     "collapsed": false,
     "input": "df.horsepower.value_counts()",
     "language": "python",
     "metadata": {},
     "outputs": [
      {
       "output_type": "pyout",
       "prompt_number": 88,
       "text": "[48, 70]      55\n(70, 95]      51\n(116, 288]    50\n(95, 116]     49\ndtype: int64"
      }
     ],
     "prompt_number": 88
    },
    {
     "cell_type": "markdown",
     "metadata": {},
     "source": "### Categorical data\n\nOra assegnamo ad ogni classe (ottenuta dalla discretizzazione di prima) un label numerico.\n\n**Se ho 4 classi, allora le lable saranno: [0,1,2,3]**"
    },
    {
     "cell_type": "code",
     "collapsed": false,
     "input": "categorical = pd.Categorical.from_array(df.horsepower)\ncategorical",
     "language": "python",
     "metadata": {},
     "outputs": [
      {
       "output_type": "pyout",
       "prompt_number": 95,
       "text": "Categorical: horsepower\n[2, 2, 0, 2, 2, 2, 2, 2, 0, 0, 2, 2, 0, 0, 0, 0, 0, 0, 3, 3, 3, 3, 3, 2, 3, 3, 3, 2, 1, 0, 3, 1, 3, 1, 1, 1, 1, 1, 1, 1, 1, 2, 2, 1, 3, 3, 1, 0, 0, 0, 3, 3, 3, 3, 3, 2, 2, 2, 0, 1, 1, 1, 1, 3, 1, 0, 1, 0, 0, 0, 0, 0, 0, 0, 0, 0, 3, 3, 3, 2, 2, 1, 0, 0, 0, 1, 1, 2, 2, 3, 3, 3, 3, 3, 3, 3, 3, 3, 3, 2, 2, 0, 0, 0, 0, 0, 0, 2, 1, 2, 1, 1, 1, 1, 1, 2, 1, 0, 3, 2, 3, 3, 3, 1, 0, 0, 0, 0, 0, 0, 1, 1, 2, 2, 2, 2, 0, 0, 3, 1, 1, 1, 1, 1, 1, 2, 1, 1, 1, 2, 3, 3, 3, 3, 3, 3, 3, 3, 3, 3, 3, 3, 3, 3, 3, 2, 2, 2, 2, 2, 2, 2, 2, 1, 1, 1, 1, 1, 0, 0, 0, 0, 3, 1, 3, 1, 1, 3, 2, 1, 1, 2, 3, 1, 2, 2, 2, 2, 0, 0, 2, 0, 0, 2, 2]\nLevels (4): Int64Index([0, 1, 2, 3])"
      }
     ],
     "prompt_number": 95
    },
    {
     "cell_type": "code",
     "collapsed": false,
     "input": "pd.value_counts(categorical)",
     "language": "python",
     "metadata": {},
     "outputs": [
      {
       "output_type": "pyout",
       "prompt_number": 96,
       "text": "3    55\n1    51\n0    50\n2    49\ndtype: int64"
      }
     ],
     "prompt_number": 96
    },
    {
     "cell_type": "code",
     "collapsed": false,
     "input": "#categorical\n\ndef make_categorical(data, cols):\n    for col in cols:\n        categorical = pd.Categorical.from_array(data[col])\n        data[col] = categorical.labels",
     "language": "python",
     "metadata": {},
     "outputs": [],
     "prompt_number": 97
    },
    {
     "cell_type": "code",
     "collapsed": false,
     "input": "#df.horsepower = categorical.labels\nmake_categorical(df, ['horsepower'])",
     "language": "python",
     "metadata": {},
     "outputs": [],
     "prompt_number": 98
    },
    {
     "cell_type": "code",
     "collapsed": false,
     "input": "df.horsepower.head()",
     "language": "python",
     "metadata": {},
     "outputs": [
      {
       "output_type": "pyout",
       "prompt_number": 99,
       "text": "0    2\n1    2\n2    0\n3    2\n4    2\nName: horsepower, dtype: int64"
      }
     ],
     "prompt_number": 99
    },
    {
     "cell_type": "code",
     "collapsed": false,
     "input": "#df.horsepower.describe()",
     "language": "python",
     "metadata": {},
     "outputs": [],
     "prompt_number": 100
    },
    {
     "cell_type": "markdown",
     "metadata": {},
     "source": "### Problema:\n#### perdita di informazione inserendo valori categorici (0,1,2,3), non si pu\u00f2 pi\u00f9 risalire alla categoria di 'horsepower'. Posso mantenere un dizionario globale di lookup, oppure posso utilizzare funzioni di *preprocessing* di **sklearn**\n\n\nDipende da cosa devo fare successivamente coi dati. In realt\u00e0 si pu\u00f2 \"perdere\" l'informazione sulla lable di ciascuna categoria di horsepower, se si deve fare, ad esemepio, una predizione e il targhet non \u00e8 horsepower (horsepower \u00e8 solo una features utilizzata per il *fit* dell'algoritmo di machine learning."
    },
    {
     "cell_type": "markdown",
     "metadata": {},
     "source": "# Scikit-Learn"
    },
    {
     "cell_type": "code",
     "collapsed": false,
     "input": "# ripristino da backup\ndf.horsepower = bkp_horsepower\ndf.horsepower = df.horsepower.fillna(df.horsepower.median())\ndf.horsepower = pd.qcut(df.horsepower, 4)",
     "language": "python",
     "metadata": {},
     "outputs": [],
     "prompt_number": 101
    },
    {
     "cell_type": "code",
     "collapsed": false,
     "input": "df.horsepower=df.horsepower.apply(lambda x: 'horsepower '+x)\ndf.horsepower.head()",
     "language": "python",
     "metadata": {},
     "outputs": [
      {
       "output_type": "pyout",
       "prompt_number": 102,
       "text": "0     horsepower (95, 116]\n1     horsepower (95, 116]\n2    horsepower (116, 288]\n3     horsepower (95, 116]\n4     horsepower (95, 116]\nName: horsepower, dtype: object"
      }
     ],
     "prompt_number": 102
    },
    {
     "cell_type": "code",
     "collapsed": false,
     "input": "list(df.horsepower.unique())",
     "language": "python",
     "metadata": {},
     "outputs": [
      {
       "output_type": "pyout",
       "prompt_number": 103,
       "text": "['horsepower (95, 116]',\n 'horsepower (116, 288]',\n 'horsepower [48, 70]',\n 'horsepower (70, 95]']"
      }
     ],
     "prompt_number": 103
    },
    {
     "cell_type": "code",
     "collapsed": false,
     "input": "from sklearn import preprocessing",
     "language": "python",
     "metadata": {},
     "outputs": [],
     "prompt_number": 104
    },
    {
     "cell_type": "markdown",
     "metadata": {},
     "source": "### LabelEncoder\n\nGenera automaticamente le lable e, all'occorenza, permette di risalire al valore discreto originale."
    },
    {
     "cell_type": "code",
     "collapsed": false,
     "input": "le_horsepower = preprocessing.LabelEncoder()\nle_horsepower.fit(list(df.horsepower.unique()))\n# Classi dell'encoder\nle_horsepower.classes_",
     "language": "python",
     "metadata": {},
     "outputs": [
      {
       "output_type": "pyout",
       "prompt_number": 105,
       "text": "array(['horsepower (116, 288]', 'horsepower (70, 95]',\n       'horsepower (95, 116]', 'horsepower [48, 70]'], \n      dtype='|S21')"
      }
     ],
     "prompt_number": 105
    },
    {
     "cell_type": "markdown",
     "metadata": {},
     "source": "**inverso**\n\nOra \u00e8 sufficiente eseguire una trasformazione:\n    \n    df.horsepower=le_horsepower.transform(df.horsepower)"
    },
    {
     "cell_type": "code",
     "collapsed": false,
     "input": "df.horsepower = le_horsepower.transform(df.horsepower)",
     "language": "python",
     "metadata": {},
     "outputs": [],
     "prompt_number": 106
    },
    {
     "cell_type": "code",
     "collapsed": false,
     "input": "#label\ndf.horsepower.tail()",
     "language": "python",
     "metadata": {},
     "outputs": [
      {
       "output_type": "pyout",
       "prompt_number": 108,
       "text": "200    2\n201    0\n202    0\n203    2\n204    2\nName: horsepower, dtype: int64"
      }
     ],
     "prompt_number": 108
    },
    {
     "cell_type": "code",
     "collapsed": false,
     "input": "# lookup\nle_horsepower.inverse_transform(df.horsepower.tail())",
     "language": "python",
     "metadata": {},
     "outputs": [
      {
       "output_type": "pyout",
       "prompt_number": 110,
       "text": "array(['horsepower (95, 116]', 'horsepower (116, 288]',\n       'horsepower (116, 288]', 'horsepower (95, 116]',\n       'horsepower (95, 116]'], \n      dtype='|S21')"
      }
     ],
     "prompt_number": 110
    },
    {
     "cell_type": "code",
     "collapsed": false,
     "input": "le_horsepower.inverse_transform(2)",
     "language": "python",
     "metadata": {},
     "outputs": [
      {
       "output_type": "pyout",
       "prompt_number": 111,
       "text": "'horsepower (95, 116]'"
      }
     ],
     "prompt_number": 111
    },
    {
     "cell_type": "markdown",
     "metadata": {},
     "source": "---\n## OneHotEncoder\n\nCi sono alcuni estimatori di sk-learn che utilizzano la binarizzazione delle feature, ad esempio il \"***Bernoulli Naive Bayes***\".\n\nIn questi casi conviene non utilizzare labels, ma discretizzare le variabili in modo che ogni valore costituisca una nuova feature (una nuova colonna) e la nuova riga avr\u00e0 un \"1\" solo nella colonna corrispondente al valore che aveva la vecchia riga"
    },
    {
     "cell_type": "code",
     "collapsed": false,
     "input": "# ripristino da backup\ndf.horsepower = bkp_horsepower\ndf.horsepower = df.horsepower.fillna(df.horsepower.median())\ndf.horsepower = pd.qcut(df.horsepower, 4)\ndf.horsepower=df.horsepower.apply(lambda x: 'horsepower '+x)",
     "language": "python",
     "metadata": {},
     "outputs": [],
     "prompt_number": 112
    },
    {
     "cell_type": "code",
     "collapsed": false,
     "input": "data = pd.DataFrame(df.horsepower, columns=['horsepower'])",
     "language": "python",
     "metadata": {},
     "outputs": [],
     "prompt_number": 113
    },
    {
     "cell_type": "code",
     "collapsed": false,
     "input": "#pd.concat([data.horsepower, df.aspiration],1)\ndata['aspiration'] = df.aspiration",
     "language": "python",
     "metadata": {},
     "outputs": [],
     "prompt_number": 114
    },
    {
     "cell_type": "code",
     "collapsed": false,
     "input": "data.aspiration = pd.Categorical.from_array(data.aspiration)#.labels",
     "language": "python",
     "metadata": {},
     "outputs": [],
     "prompt_number": 115
    },
    {
     "cell_type": "code",
     "collapsed": false,
     "input": "data.tail()",
     "language": "python",
     "metadata": {},
     "outputs": [
      {
       "html": "<div style=\"max-height:1000px;max-width:1500px;overflow:auto;\">\n<table border=\"1\" class=\"dataframe\">\n  <thead>\n    <tr style=\"text-align: right;\">\n      <th></th>\n      <th>horsepower</th>\n      <th>aspiration</th>\n    </tr>\n  </thead>\n  <tbody>\n    <tr>\n      <th>200</th>\n      <td>  horsepower (95, 116]</td>\n      <td>   std</td>\n    </tr>\n    <tr>\n      <th>201</th>\n      <td> horsepower (116, 288]</td>\n      <td> turbo</td>\n    </tr>\n    <tr>\n      <th>202</th>\n      <td> horsepower (116, 288]</td>\n      <td>   std</td>\n    </tr>\n    <tr>\n      <th>203</th>\n      <td>  horsepower (95, 116]</td>\n      <td> turbo</td>\n    </tr>\n    <tr>\n      <th>204</th>\n      <td>  horsepower (95, 116]</td>\n      <td> turbo</td>\n    </tr>\n  </tbody>\n</table>\n</div>",
       "output_type": "pyout",
       "prompt_number": 116,
       "text": "                horsepower aspiration\n200   horsepower (95, 116]        std\n201  horsepower (116, 288]      turbo\n202  horsepower (116, 288]        std\n203   horsepower (95, 116]      turbo\n204   horsepower (95, 116]      turbo"
      }
     ],
     "prompt_number": 116
    },
    {
     "cell_type": "markdown",
     "metadata": {},
     "source": "In sklearn.preprocessing esiste 'OneHotEncoder', ma per il nostro caso \u00e8 un po' scomodo: prende in ingresso delle righe\nintere per farne poi il fit/transform. Comunqe si pu\u00f2 usare: \n\n    from sklearn.preprocessing import OneHotEncoder\n\nIn alternativa, definisco una funzione apposita per Pandas: 'one_hot_dataframe'"
    },
    {
     "cell_type": "code",
     "collapsed": false,
     "input": "# Example\n#enc = OneHotEncoder()\n#enc.fit([[0,0],[1,1],[2,1],[3,1]])",
     "language": "python",
     "metadata": {},
     "outputs": [],
     "prompt_number": 117
    },
    {
     "cell_type": "code",
     "collapsed": false,
     "input": "from sklearn.feature_extraction import DictVectorizer",
     "language": "python",
     "metadata": {},
     "outputs": [],
     "prompt_number": 118
    },
    {
     "cell_type": "code",
     "collapsed": false,
     "input": "import numpy\ndef one_hot_dataframe(data, cols, replace=False):\n    vect = DictVectorizer()\n    mkdict = lambda row: dict((col, row[col]) for col in cols)\n    #apply(axis = 1 => per ogni riga) applica la funzione (lambda), passando un oggetto che ha come index le colonne e come valori \n    vectData = pd.DataFrame(vect.fit_transform(data[cols].apply(mkdict, axis=1)).toarray())\n    vectData.columns = vect.get_feature_names()\n    vectData.index = data.index\n    if replace is True:\n        #data = data.drop(cols,1)\n        data = data.drop(cols, axis=1)\n        data = data.join(vectData)\n    return (data, vectData, vect)",
     "language": "python",
     "metadata": {},
     "outputs": [],
     "prompt_number": 119
    },
    {
     "cell_type": "code",
     "collapsed": false,
     "input": "data,_a,_b = one_hot_dataframe(data,['horsepower','aspiration'], replace=True)",
     "language": "python",
     "metadata": {},
     "outputs": [],
     "prompt_number": 120
    },
    {
     "cell_type": "code",
     "collapsed": false,
     "input": "data.tail()",
     "language": "python",
     "metadata": {},
     "outputs": [
      {
       "html": "<div style=\"max-height:1000px;max-width:1500px;overflow:auto;\">\n<table border=\"1\" class=\"dataframe\">\n  <thead>\n    <tr style=\"text-align: right;\">\n      <th></th>\n      <th>aspiration=std</th>\n      <th>aspiration=turbo</th>\n      <th>horsepower=horsepower (116, 288]</th>\n      <th>horsepower=horsepower (70, 95]</th>\n      <th>horsepower=horsepower (95, 116]</th>\n      <th>horsepower=horsepower [48, 70]</th>\n    </tr>\n  </thead>\n  <tbody>\n    <tr>\n      <th>200</th>\n      <td> 1</td>\n      <td> 0</td>\n      <td> 0</td>\n      <td> 0</td>\n      <td> 1</td>\n      <td> 0</td>\n    </tr>\n    <tr>\n      <th>201</th>\n      <td> 0</td>\n      <td> 1</td>\n      <td> 1</td>\n      <td> 0</td>\n      <td> 0</td>\n      <td> 0</td>\n    </tr>\n    <tr>\n      <th>202</th>\n      <td> 1</td>\n      <td> 0</td>\n      <td> 1</td>\n      <td> 0</td>\n      <td> 0</td>\n      <td> 0</td>\n    </tr>\n    <tr>\n      <th>203</th>\n      <td> 0</td>\n      <td> 1</td>\n      <td> 0</td>\n      <td> 0</td>\n      <td> 1</td>\n      <td> 0</td>\n    </tr>\n    <tr>\n      <th>204</th>\n      <td> 0</td>\n      <td> 1</td>\n      <td> 0</td>\n      <td> 0</td>\n      <td> 1</td>\n      <td> 0</td>\n    </tr>\n  </tbody>\n</table>\n</div>",
       "output_type": "pyout",
       "prompt_number": 121,
       "text": "     aspiration=std  aspiration=turbo  horsepower=horsepower (116, 288]  \\\n200               1                 0                                 0   \n201               0                 1                                 1   \n202               1                 0                                 1   \n203               0                 1                                 0   \n204               0                 1                                 0   \n\n     horsepower=horsepower (70, 95]  horsepower=horsepower (95, 116]  \\\n200                               0                                1   \n201                               0                                0   \n202                               0                                0   \n203                               0                                1   \n204                               0                                1   \n\n     horsepower=horsepower [48, 70]  \n200                               0  \n201                               0  \n202                               0  \n203                               0  \n204                               0  "
      }
     ],
     "prompt_number": 121
    },
    {
     "cell_type": "code",
     "collapsed": false,
     "input": "df, data2, vec2 =one_hot_dataframe(df,['horsepower','aspiration'], replace=True)",
     "language": "python",
     "metadata": {},
     "outputs": [],
     "prompt_number": 122
    },
    {
     "cell_type": "code",
     "collapsed": false,
     "input": "#df.ix[0:,10:30].tail()",
     "language": "python",
     "metadata": {},
     "outputs": [],
     "prompt_number": 123
    },
    {
     "cell_type": "raw",
     "metadata": {},
     "source": "#### Attribute Information:     \n     Attribute:                Attribute Range:\n     \n# 1. symboling:                -3, -2, -1, 0, 1, 2, 3.\n# 2. normalized-losses:        continuous from 65 to 256.\n  3. make:                     alfa-romero, audi, bmw, chevrolet, dodge, honda,isuzu, jaguar, mazda, mercedes-benz, mercury,mitsubishi, nissan, peugot, plymouth, porsche,renault, saab, subaru, toyota, volkswagen, volvo\n  4. fuel-type:                diesel, gas.\n  5. aspiration:               std, turbo.\n  6. num-of-doors:             four, two.\n  7. body-style:               hardtop, wagon, sedan, hatchback, convertible.\n  8. drive-wheels:             4wd, fwd, rwd.\n  9. engine-location:          front, rear.\n#10. wheel-base:               continuous from 86.6 120.9.\n#11. length:                   continuous from 141.1 to 208.1.\n#12. width:                    continuous from 60.3 to 72.3.\n#13. height:                   continuous from 47.8 to 59.8.\n#14. curb-weight:              continuous from 1488 to 4066.\n 15. engine-type:              dohc, dohcv, l, ohc, ohcf, ohcv, rotor.\n 16. num-of-cylinders:         eight, five, four, six, three, twelve, two.\n#17. engine-size:              continuous from 61 to 326.\n 18. fuel-system:              1bbl, 2bbl, 4bbl, idi, mfi, mpfi, spdi, spfi.\n#19. bore:                     continuous from 2.54 to 3.94.\n_20. stroke:                   continuous from 2.07 to 4.17.\n#21. compression-ratio:        continuous from 7 to 23.\n#22. horsepower:               continuous from 48 to 288.\n_23. peak-rpm:                 continuous from 4150 to 6600.\n#24. city-mpg:                 continuous from 13 to 49.\n#25. highway-mpg:              continuous from 16 to 54.\n_26. price:                    continuous from 5118 to 45400.\n\n#### Missing Attribute Values: (denoted by \"?\")\n   Attribute :   Number of instances missing a value:\n   2.             41\n   6.             2\n   19.            4\n   20.            4\n   22.            2\n   23.            2\n   26.            4"
    },
    {
     "cell_type": "code",
     "collapsed": false,
     "input": "df_bkp = df.copy()",
     "language": "python",
     "metadata": {},
     "outputs": [],
     "prompt_number": 124
    },
    {
     "cell_type": "markdown",
     "metadata": {},
     "source": "---\n## Backup\n\n---"
    },
    {
     "cell_type": "code",
     "collapsed": false,
     "input": "df = df_bkp.copy()",
     "language": "python",
     "metadata": {},
     "outputs": [],
     "prompt_number": 131
    },
    {
     "cell_type": "code",
     "collapsed": false,
     "input": "df.ix[:,0:4].describe()",
     "language": "python",
     "metadata": {},
     "outputs": [
      {
       "html": "<div style=\"max-height:1000px;max-width:1500px;overflow:auto;\">\n<table border=\"1\" class=\"dataframe\">\n  <thead>\n    <tr style=\"text-align: right;\">\n      <th></th>\n      <th>symboling</th>\n      <th>normalized-losses</th>\n    </tr>\n  </thead>\n  <tbody>\n    <tr>\n      <th>count</th>\n      <td> 205.000000</td>\n      <td> 205.000000</td>\n    </tr>\n    <tr>\n      <th>mean</th>\n      <td>   0.834146</td>\n      <td> 120.600000</td>\n    </tr>\n    <tr>\n      <th>std</th>\n      <td>   1.245307</td>\n      <td>  31.805105</td>\n    </tr>\n    <tr>\n      <th>min</th>\n      <td>  -2.000000</td>\n      <td>  65.000000</td>\n    </tr>\n    <tr>\n      <th>25%</th>\n      <td>   0.000000</td>\n      <td> 101.000000</td>\n    </tr>\n    <tr>\n      <th>50%</th>\n      <td>   1.000000</td>\n      <td> 115.000000</td>\n    </tr>\n    <tr>\n      <th>75%</th>\n      <td>   2.000000</td>\n      <td> 137.000000</td>\n    </tr>\n    <tr>\n      <th>max</th>\n      <td>   3.000000</td>\n      <td> 256.000000</td>\n    </tr>\n  </tbody>\n</table>\n</div>",
       "output_type": "pyout",
       "prompt_number": 132,
       "text": "        symboling  normalized-losses\ncount  205.000000         205.000000\nmean     0.834146         120.600000\nstd      1.245307          31.805105\nmin     -2.000000          65.000000\n25%      0.000000         101.000000\n50%      1.000000         115.000000\n75%      2.000000         137.000000\nmax      3.000000         256.000000"
      }
     ],
     "prompt_number": 132
    },
    {
     "cell_type": "code",
     "collapsed": false,
     "input": "# fillna\nmedian_ = df['bore'].median()\ndf['bore']=df['bore'].fillna(median_)\n\n#fillna\ndf.stroke = df.stroke.astype(np.float).fillna(df.stroke.astype(np.float).median())\n\n#fillna\ndf['peak-rpm'] = df['peak-rpm'].astype(np.float).fillna(df['peak-rpm'].astype(np.float).median())",
     "language": "python",
     "metadata": {},
     "outputs": [],
     "prompt_number": 133
    },
    {
     "cell_type": "code",
     "collapsed": false,
     "input": "# qcut di Price\ndf.price = df.price.astype(np.float)\ndf.price = df.price.fillna(df.price.median())\ndf.price = pd.qcut(df.price,4)\ndf ,_a, _b = one_hot_dataframe(df,['price'],replace = True)",
     "language": "python",
     "metadata": {},
     "outputs": [],
     "prompt_number": 134
    },
    {
     "cell_type": "code",
     "collapsed": false,
     "input": "df.columns\n#len(df_bkp.columns)",
     "language": "python",
     "metadata": {},
     "outputs": [
      {
       "output_type": "pyout",
       "prompt_number": 142,
       "text": "Index([u'symboling', u'normalized-losses', u'make', u'fuel-type', u'num-of-doors', u'body-style', u'drive-wheels', u'engine-location', u'wheel-base', u'length', u'width', u'height', u'curb-weight', u'engine-type', u'num-of-cylinders', u'engine-size', u'fuel-system', u'bore', u'stroke', u'compression-ratio', u'peak-rpm', u'city-mpg', u'highway-mpg', u'aspiration=std', u'aspiration=turbo', u'horsepower=horsepower (116, 288]', u'horsepower=horsepower (70, 95]', u'horsepower=horsepower (95, 116]', u'horsepower=horsepower [48, 70]', u'price=(10295, 16500]', u'price=(16500, 45400]', u'price=(7788, 10295]', u'price=[5118, 7788]'], dtype=object)"
      }
     ],
     "prompt_number": 142
    },
    {
     "cell_type": "markdown",
     "metadata": {},
     "source": "## Rimangono\n\n---\n- make: non lo considero\n\n        data = data.drop('make', axis=1)\n\n---\n- fuel-type\n- aspiration\n- num-of-doors\n- body-style\n- drive-wheels\n- engine-location\n- num-of-cylinders\n- fuel-system\n    \n    Sono tutti gi\u00e0 discretizzati, non ci sono valori mancanti ===> **one-hot-encoding**"
    },
    {
     "cell_type": "code",
     "collapsed": false,
     "input": "#'fuel-type','aspiration','num-of-doors','body-style','drive-wheels','engine-location','num-of-cylinders','fuel-system'",
     "language": "python",
     "metadata": {},
     "outputs": [],
     "prompt_number": 143
    },
    {
     "cell_type": "code",
     "collapsed": false,
     "input": "df[['fuel-type','num-of-doors','body-style','drive-wheels','engine-location','num-of-cylinders','fuel-system']].describe()",
     "language": "python",
     "metadata": {},
     "outputs": [
      {
       "html": "<div style=\"max-height:1000px;max-width:1500px;overflow:auto;\">\n<table border=\"1\" class=\"dataframe\">\n  <thead>\n    <tr style=\"text-align: right;\">\n      <th></th>\n      <th>fuel-type</th>\n      <th>num-of-doors</th>\n      <th>body-style</th>\n      <th>drive-wheels</th>\n      <th>engine-location</th>\n      <th>num-of-cylinders</th>\n      <th>fuel-system</th>\n    </tr>\n  </thead>\n  <tbody>\n    <tr>\n      <th>count</th>\n      <td> 205</td>\n      <td> 205</td>\n      <td>   205</td>\n      <td> 205</td>\n      <td>   205</td>\n      <td>  205</td>\n      <td>  205</td>\n    </tr>\n    <tr>\n      <th>unique</th>\n      <td>   2</td>\n      <td>   2</td>\n      <td>     5</td>\n      <td>   3</td>\n      <td>     2</td>\n      <td>    7</td>\n      <td>    8</td>\n    </tr>\n    <tr>\n      <th>top</th>\n      <td> gas</td>\n      <td>   0</td>\n      <td> sedan</td>\n      <td> fwd</td>\n      <td> front</td>\n      <td> four</td>\n      <td> mpfi</td>\n    </tr>\n    <tr>\n      <th>freq</th>\n      <td> 185</td>\n      <td> 116</td>\n      <td>    96</td>\n      <td> 120</td>\n      <td>   202</td>\n      <td>  159</td>\n      <td>   94</td>\n    </tr>\n  </tbody>\n</table>\n</div>",
       "output_type": "pyout",
       "prompt_number": 144,
       "text": "       fuel-type  num-of-doors body-style drive-wheels engine-location  \\\ncount        205           205        205          205             205   \nunique         2             2          5            3               2   \ntop          gas             0      sedan          fwd           front   \nfreq         185           116         96          120             202   \n\n       num-of-cylinders fuel-system  \ncount               205         205  \nunique                7           8  \ntop                four        mpfi  \nfreq                159          94  "
      }
     ],
     "prompt_number": 144
    },
    {
     "cell_type": "code",
     "collapsed": false,
     "input": "df = df.drop(['make'],1)\nmake_categorical(df,['fuel-type','num-of-doors','body-style','drive-wheels','engine-location','num-of-cylinders','fuel-system','engine-type'])",
     "language": "python",
     "metadata": {},
     "outputs": [],
     "prompt_number": 145
    },
    {
     "cell_type": "code",
     "collapsed": false,
     "input": "#df.make",
     "language": "python",
     "metadata": {},
     "outputs": [],
     "prompt_number": 147
    },
    {
     "cell_type": "code",
     "collapsed": false,
     "input": "df.ix[:,29:35].describe()",
     "language": "python",
     "metadata": {},
     "outputs": [
      {
       "html": "<div style=\"max-height:1000px;max-width:1500px;overflow:auto;\">\n<table border=\"1\" class=\"dataframe\">\n  <thead>\n    <tr style=\"text-align: right;\">\n      <th></th>\n      <th>price=(16500, 45400]</th>\n      <th>price=(7788, 10295]</th>\n      <th>price=[5118, 7788]</th>\n    </tr>\n  </thead>\n  <tbody>\n    <tr>\n      <th>count</th>\n      <td> 205.000000</td>\n      <td> 205.000000</td>\n      <td> 205.000000</td>\n    </tr>\n    <tr>\n      <th>mean</th>\n      <td>   0.243902</td>\n      <td>   0.258537</td>\n      <td>   0.253659</td>\n    </tr>\n    <tr>\n      <th>std</th>\n      <td>   0.430486</td>\n      <td>   0.438902</td>\n      <td>   0.436170</td>\n    </tr>\n    <tr>\n      <th>min</th>\n      <td>   0.000000</td>\n      <td>   0.000000</td>\n      <td>   0.000000</td>\n    </tr>\n    <tr>\n      <th>25%</th>\n      <td>   0.000000</td>\n      <td>   0.000000</td>\n      <td>   0.000000</td>\n    </tr>\n    <tr>\n      <th>50%</th>\n      <td>   0.000000</td>\n      <td>   0.000000</td>\n      <td>   0.000000</td>\n    </tr>\n    <tr>\n      <th>75%</th>\n      <td>   0.000000</td>\n      <td>   1.000000</td>\n      <td>   1.000000</td>\n    </tr>\n    <tr>\n      <th>max</th>\n      <td>   1.000000</td>\n      <td>   1.000000</td>\n      <td>   1.000000</td>\n    </tr>\n  </tbody>\n</table>\n</div>",
       "output_type": "pyout",
       "prompt_number": 148,
       "text": "       price=(16500, 45400]  price=(7788, 10295]  price=[5118, 7788]\ncount            205.000000           205.000000          205.000000\nmean               0.243902             0.258537            0.253659\nstd                0.430486             0.438902            0.436170\nmin                0.000000             0.000000            0.000000\n25%                0.000000             0.000000            0.000000\n50%                0.000000             0.000000            0.000000\n75%                0.000000             1.000000            1.000000\nmax                1.000000             1.000000            1.000000"
      }
     ],
     "prompt_number": 148
    },
    {
     "cell_type": "code",
     "collapsed": false,
     "input": "len(df.columns)",
     "language": "python",
     "metadata": {},
     "outputs": [
      {
       "output_type": "pyout",
       "prompt_number": 149,
       "text": "32"
      }
     ],
     "prompt_number": 149
    },
    {
     "cell_type": "code",
     "collapsed": false,
     "input": "#df[df.ix[0:,0:].values == np.nan]\nif list(df.count())[:] == np.nan:\n    print 'Mancano degli elementi'\nelse:\n    print 'non manca nessun elemento'",
     "language": "python",
     "metadata": {},
     "outputs": [
      {
       "output_type": "stream",
       "stream": "stdout",
       "text": "non manca nessun elemento\n"
      }
     ],
     "prompt_number": 150
    },
    {
     "cell_type": "code",
     "collapsed": false,
     "input": "#df.ix[0:,0:].values == np.nan",
     "language": "python",
     "metadata": {},
     "outputs": [],
     "prompt_number": 151
    },
    {
     "cell_type": "code",
     "collapsed": false,
     "input": "df.to_csv('data_short.csv',index=False,header=True)",
     "language": "python",
     "metadata": {},
     "outputs": [],
     "prompt_number": 152
    },
    {
     "cell_type": "markdown",
     "metadata": {},
     "source": "---"
    },
    {
     "cell_type": "markdown",
     "metadata": {},
     "source": "Per ottenere l'index di una colonna a partire dal nome:"
    },
    {
     "cell_type": "code",
     "collapsed": false,
     "input": "df.columns.get_loc('highway-mpg')",
     "language": "python",
     "metadata": {},
     "outputs": [
      {
       "output_type": "pyout",
       "prompt_number": 153,
       "text": "21"
      }
     ],
     "prompt_number": 153
    },
    {
     "cell_type": "code",
     "collapsed": false,
     "input": "",
     "language": "python",
     "metadata": {},
     "outputs": []
    }
   ],
   "metadata": {}
  }
 ]
}