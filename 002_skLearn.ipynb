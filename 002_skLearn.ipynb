{
 "metadata": {
  "name": "002_Machine Learning - skLearn"
 },
 "nbformat": 3,
 "nbformat_minor": 0,
 "worksheets": [
  {
   "cells": [
    {
     "cell_type": "markdown",
     "metadata": {},
     "source": "#Algoritmi di machine learning con SciKit-Learn"
    },
    {
     "cell_type": "code",
     "collapsed": false,
     "input": "# Visualizzare un'immagine\n\n#from IPython.display import Image as Im\n#from IPython.display import display\n#Im('./data/shuttle.png')",
     "language": "python",
     "metadata": {},
     "outputs": [],
     "prompt_number": 651
    },
    {
     "cell_type": "code",
     "collapsed": false,
     "input": "from pandas import DataFrame, read_csv\n\nimport matplotlib.pyplot as plt\nimport pylab as pl\n\nimport pandas as pd\n\n",
     "language": "python",
     "metadata": {},
     "outputs": [],
     "prompt_number": 652
    },
    {
     "cell_type": "code",
     "collapsed": false,
     "input": "def load_data(filename):\n    data = np.genfromtxt(filename,\n                         dtype=np.float,\n                         delimiter=',',\n                         skip_header=1,\n    )\n    return data",
     "language": "python",
     "metadata": {},
     "outputs": [],
     "prompt_number": 653
    },
    {
     "cell_type": "code",
     "collapsed": false,
     "input": "data = load_data('./data_short.csv')\n#data = load_data('./data_short.csv')",
     "language": "python",
     "metadata": {},
     "outputs": [],
     "prompt_number": 654
    },
    {
     "cell_type": "code",
     "collapsed": false,
     "input": "#data",
     "language": "python",
     "metadata": {},
     "outputs": [],
     "prompt_number": 655
    },
    {
     "cell_type": "markdown",
     "metadata": {},
     "source": "## Classificazione\n\nSi vuole predire"
    },
    {
     "cell_type": "markdown",
     "metadata": {},
     "source": "### Naive Bayes"
    },
    {
     "cell_type": "code",
     "collapsed": false,
     "input": "from sklearn.naive_bayes import *\n#from sklearn.naive_bayes import GaussianNB\nfrom sklearn.cross_validation import train_test_split\n\n#train[2]\ntrain = [t.tolist()[1:] for t in data]\ntarget = [t[0] for t in data]\n\nx_train, x_test ,y_train, y_test = train_test_split(train, target ,test_size=0.2, random_state=15)\n\n#pred = [t.tolist()[1:] for t in test]\n#print(len(train[0]))\n#test = [t[1:] for t in test]\n\n#gnb = GaussianNB()\ngnb = BernoulliNB()\ny_pred = gnb.fit(x_train,y_train).predict(x_test)",
     "language": "python",
     "metadata": {},
     "outputs": [],
     "prompt_number": 656
    },
    {
     "cell_type": "code",
     "collapsed": false,
     "input": "from sklearn.metrics import confusion_matrix\ncm_nb = confusion_matrix(y_test,y_pred)",
     "language": "python",
     "metadata": {},
     "outputs": [],
     "prompt_number": 657
    },
    {
     "cell_type": "markdown",
     "metadata": {},
     "source": "#### Confusion Matrix\nI valori sulla diagonale rappresentano il numero di punti per i quali \u00e8 stata effettuata una corretta predizione;\nquelli fuori dalla diagonale, quelli per cui la predizione \u00e8 sbagliata."
    },
    {
     "cell_type": "code",
     "collapsed": false,
     "input": "#cm_nb",
     "language": "python",
     "metadata": {},
     "outputs": [],
     "prompt_number": 658
    },
    {
     "cell_type": "code",
     "collapsed": false,
     "input": "import pylab as pl\npl.matshow(cm_nb)\npl.title('Confusion matrix')\npl.colorbar()\npl.ylabel('True label')\npl.xlabel('Predicted label')",
     "language": "python",
     "metadata": {},
     "outputs": [
      {
       "output_type": "pyout",
       "prompt_number": 659,
       "text": "<matplotlib.text.Text at 0xfd37510>"
      },
      {
       "output_type": "display_data",
       "png": "[encoded data removed]"
      }
     ],
     "prompt_number": 659
    },
    {
     "cell_type": "code",
     "collapsed": false,
     "input": "from sklearn.metrics import accuracy_score\naccuracy_score(y_test,y_pred)",
     "language": "python",
     "metadata": {},
     "outputs": [
      {
       "output_type": "pyout",
       "prompt_number": 660,
       "text": "0.46341463414634149"
      }
     ],
     "prompt_number": 660
    },
    {
     "cell_type": "markdown",
     "metadata": {},
     "source": "### KNN"
    },
    {
     "cell_type": "code",
     "collapsed": false,
     "input": "from sklearn.neighbors import KNeighborsClassifier\nknn = KNeighborsClassifier()\nknn.fit(x_train, y_train)",
     "language": "python",
     "metadata": {},
     "outputs": [
      {
       "output_type": "pyout",
       "prompt_number": 661,
       "text": "KNeighborsClassifier(algorithm='auto', leaf_size=30, metric='minkowski',\n           n_neighbors=5, p=2, weights='uniform')"
      }
     ],
     "prompt_number": 661
    },
    {
     "cell_type": "code",
     "collapsed": false,
     "input": "y_pred = knn.predict(x_test)\ny_pred",
     "language": "python",
     "metadata": {},
     "outputs": [
      {
       "output_type": "pyout",
       "prompt_number": 662,
       "text": "array([ 0.,  3., -1., -1.,  1., -1.,  1.,  1.,  0.,  1.,  0.,  0.,  1.,\n        1.,  1.,  1., -1.,  2., -1.,  1.,  0.,  2.,  1.,  0., -1.,  0.,\n        3.,  0.,  1.,  0.,  1.,  1.,  2.,  1., -1.,  2.,  3., -1., -1.,\n        0.,  0.])"
      }
     ],
     "prompt_number": 662
    },
    {
     "cell_type": "code",
     "collapsed": false,
     "input": "cm_knn = confusion_matrix(y_test,y_pred)\npl.matshow(cm_knn)\npl.title('Confusion matrix')\npl.colorbar()\npl.ylabel('True label')\npl.xlabel('Predicted label')",
     "language": "python",
     "metadata": {},
     "outputs": [
      {
       "output_type": "pyout",
       "prompt_number": 663,
       "text": "<matplotlib.text.Text at 0x1123ba90>"
      },
      {
       "output_type": "display_data",
       "png": "[encoded data removed]"
      }
     ],
     "prompt_number": 663
    },
    {
     "cell_type": "code",
     "collapsed": false,
     "input": "accuracy_score(y_test,y_pred)",
     "language": "python",
     "metadata": {},
     "outputs": [
      {
       "output_type": "pyout",
       "prompt_number": 664,
       "text": "0.43902439024390244"
      }
     ],
     "prompt_number": 664
    },
    {
     "cell_type": "markdown",
     "metadata": {},
     "source": "### Decision Tree"
    },
    {
     "cell_type": "code",
     "collapsed": false,
     "input": "from sklearn import tree\nclf = tree.DecisionTreeClassifier()\nclf = clf.fit(x_train, y_train)\nfrom sklearn.externals.six import StringIO\nwith open(\"tt.dot\", 'w') as f:\n    f = tree.export_graphviz(clf, out_file=f)",
     "language": "python",
     "metadata": {},
     "outputs": [],
     "prompt_number": 665
    },
    {
     "cell_type": "code",
     "collapsed": false,
     "input": "y_pres = clf.predict(x_test)",
     "language": "python",
     "metadata": {},
     "outputs": [],
     "prompt_number": 666
    },
    {
     "cell_type": "code",
     "collapsed": false,
     "input": "cm_tree = confusion_matrix(y_test,y_pred)\npl.matshow(cm_tree)\npl.title('Confusion matrix')\npl.colorbar()\npl.ylabel('True label')\npl.xlabel('Predicted label')",
     "language": "python",
     "metadata": {},
     "outputs": [
      {
       "output_type": "pyout",
       "prompt_number": 667,
       "text": "<matplotlib.text.Text at 0x105328d0>"
      },
      {
       "output_type": "display_data",
       "png": "[encoded data removed]"
      }
     ],
     "prompt_number": 667
    },
    {
     "cell_type": "code",
     "collapsed": false,
     "input": "accuracy_score(y_test,y_pred)",
     "language": "python",
     "metadata": {},
     "outputs": [
      {
       "output_type": "pyout",
       "prompt_number": 668,
       "text": "0.43902439024390244"
      }
     ],
     "prompt_number": 668
    },
    {
     "cell_type": "code",
     "collapsed": false,
     "input": "from sklearn.externals.six import StringIO\nwith open(\"decisionTree.dot\", 'w') as f:\n    f = tree.export_graphviz(clf, out_file=f)",
     "language": "python",
     "metadata": {},
     "outputs": [],
     "prompt_number": 669
    },
    {
     "cell_type": "code",
     "collapsed": false,
     "input": "#import os\n#os.unlink('decisionTree.dot')",
     "language": "python",
     "metadata": {},
     "outputs": [],
     "prompt_number": 670
    },
    {
     "cell_type": "markdown",
     "metadata": {},
     "source": "Per creare il PDF \u00e8 sufficiente eseguire da terminale:\n\n    $ dot -Tpdf decisionTree.dot -o dtt.pdf\n\nDeve essere installato graphviz.\n\nPer installarlo:\n    \n    $ sudo apt-get install graphviz\n"
    },
    {
     "cell_type": "markdown",
     "metadata": {},
     "source": "### Random Forest"
    },
    {
     "cell_type": "code",
     "collapsed": false,
     "input": "from sklearn.ensemble.forest import RandomForestClassifier\nrf = RandomForestClassifier(n_estimators=100, n_jobs=1)",
     "language": "python",
     "metadata": {},
     "outputs": [],
     "prompt_number": 671
    },
    {
     "cell_type": "code",
     "collapsed": false,
     "input": "rf.fit(x_train, y_train)\ny_pred = rf.predict(x_test)",
     "language": "python",
     "metadata": {},
     "outputs": [],
     "prompt_number": 672
    },
    {
     "cell_type": "code",
     "collapsed": false,
     "input": "cm_tree = confusion_matrix(y_test,y_pred)\npl.matshow(cm_tree)\npl.title('Confusion matrix')\npl.colorbar()\npl.ylabel('True label')\npl.xlabel('Predicted label')",
     "language": "python",
     "metadata": {},
     "outputs": [
      {
       "output_type": "pyout",
       "prompt_number": 675,
       "text": "<matplotlib.text.Text at 0x107334d0>"
      },
      {
       "output_type": "display_data",
       "png": "[encoded data removed]"
      }
     ],
     "prompt_number": 675
    },
    {
     "cell_type": "code",
     "collapsed": false,
     "input": "accuracy_score(y_test,y_pred)",
     "language": "python",
     "metadata": {},
     "outputs": [
      {
       "output_type": "pyout",
       "prompt_number": 676,
       "text": "0.73170731707317072"
      }
     ],
     "prompt_number": 676
    },
    {
     "cell_type": "markdown",
     "metadata": {},
     "source": "## Regressione\n\nSi vuole stimare il consumo di un'autovettura"
    },
    {
     "cell_type": "markdown",
     "metadata": {},
     "source": "### Linear Regression"
    },
    {
     "cell_type": "code",
     "collapsed": false,
     "input": "data = load_data('./data_short.csv')",
     "language": "python",
     "metadata": {},
     "outputs": [],
     "prompt_number": 612
    },
    {
     "cell_type": "code",
     "collapsed": false,
     "input": "# Scambio le colonne 21 e 0\ntmp_d = np.copy(data[:, 0])\ndata[:, 0] = data[:, 21]\ndata[:, 21] = tmp_d",
     "language": "python",
     "metadata": {},
     "outputs": [],
     "prompt_number": 613
    },
    {
     "cell_type": "code",
     "collapsed": false,
     "input": "target = [t[0] for t in data]\ntrain = [t.tolist()[1:] for t in data]",
     "language": "python",
     "metadata": {},
     "outputs": [],
     "prompt_number": 614
    },
    {
     "cell_type": "code",
     "collapsed": false,
     "input": "x_train, x_test ,y_train, y_test = train_test_split(train, target ,test_size=0.33, random_state=40)",
     "language": "python",
     "metadata": {},
     "outputs": [],
     "prompt_number": 615
    },
    {
     "cell_type": "code",
     "collapsed": false,
     "input": "from sklearn import linear_model\nregr = linear_model.LinearRegression()",
     "language": "python",
     "metadata": {},
     "outputs": [],
     "prompt_number": 616
    },
    {
     "cell_type": "code",
     "collapsed": false,
     "input": "regr.fit(x_train, y_train)\n#regr.coef_",
     "language": "python",
     "metadata": {},
     "outputs": [
      {
       "output_type": "pyout",
       "prompt_number": 617,
       "text": "LinearRegression(copy_X=True, fit_intercept=True, normalize=False)"
      }
     ],
     "prompt_number": 617
    },
    {
     "cell_type": "code",
     "collapsed": false,
     "input": "y_pred = regr.predict(x_test)",
     "language": "python",
     "metadata": {},
     "outputs": [],
     "prompt_number": 618
    },
    {
     "cell_type": "code",
     "collapsed": false,
     "input": "x  = range(0,len(y_test))\nplt.plot(x,np.sort(y_pred),c='r',alpha=0.9,label=\"predetto\")\nplt.plot(x,np.sort(y_test),c='g',alpha=0.9,label=\"reale\")\nplt.legend(title=\"LinearRegression\",loc=\"best\")",
     "language": "python",
     "metadata": {},
     "outputs": [
      {
       "output_type": "pyout",
       "prompt_number": 644,
       "text": "<matplotlib.legend.Legend at 0xfa601d0>"
      },
      {
       "output_type": "display_data",
       "png": "[encoded data removed]"
      }
     ],
     "prompt_number": 644
    },
    {
     "cell_type": "markdown",
     "metadata": {},
     "source": "#### Mean absolute error\n\n$$ \\text{MAE}(y, \\hat{y}) = \\frac{1}{n_{\\text{samples}}} \\sum_{i=0}^{n_{\\text{samples}}-1} \\left| y_i - \\hat{y}_i \\right|.$$"
    },
    {
     "cell_type": "code",
     "collapsed": false,
     "input": "from sklearn.metrics import mean_absolute_error\nmean_absolute_error(y_test, y_pred)",
     "language": "python",
     "metadata": {},
     "outputs": [
      {
       "output_type": "pyout",
       "prompt_number": 620,
       "text": "1.1235181700486707"
      }
     ],
     "prompt_number": 620
    },
    {
     "cell_type": "markdown",
     "metadata": {},
     "source": "#### Mean squared Error\n\n$$ \\text{MSE}(y, \\hat{y}) = \\frac{1}{n_\\text{samples}} \\sum_{i=0}^{n_\\text{samples} - 1} (y_i - \\hat{y}_i)^2. $$"
    },
    {
     "cell_type": "code",
     "collapsed": false,
     "input": "from sklearn.metrics import mean_squared_error\nmean_squared_error(y_test, y_pred)",
     "language": "python",
     "metadata": {},
     "outputs": [
      {
       "output_type": "pyout",
       "prompt_number": 621,
       "text": "2.975683886891876"
      }
     ],
     "prompt_number": 621
    },
    {
     "cell_type": "markdown",
     "metadata": {},
     "source": "#### Variance SCORE\n\n**1.0 Valore ottimo**. \nQuantifica la varianza sul valore predetto"
    },
    {
     "cell_type": "code",
     "collapsed": false,
     "input": "#Variance SCORE\nfrom sklearn.metrics import explained_variance_score\nexplained_variance_score(y_test, y_pred)",
     "language": "python",
     "metadata": {},
     "outputs": [
      {
       "output_type": "pyout",
       "prompt_number": 622,
       "text": "0.91475582433311364"
      }
     ],
     "prompt_number": 622
    },
    {
     "cell_type": "markdown",
     "metadata": {},
     "source": "### Decision Tree Regression"
    },
    {
     "cell_type": "code",
     "collapsed": false,
     "input": "from sklearn.tree import DecisionTreeRegressor\n\n# max_depth: livelli a cui arriva il decision Tree\nclf_1 = DecisionTreeRegressor(max_depth=2, random_state =50)\nclf_2 = DecisionTreeRegressor(max_depth=5, random_state =50)\nclf_1.fit(x_train, y_train)\nclf_2.fit(x_train, y_train)",
     "language": "python",
     "metadata": {},
     "outputs": [
      {
       "output_type": "pyout",
       "prompt_number": 623,
       "text": "DecisionTreeRegressor(compute_importances=None, criterion='mse', max_depth=5,\n           max_features=None, min_density=None, min_samples_leaf=1,\n           min_samples_split=2, random_state=50, splitter='best')"
      }
     ],
     "prompt_number": 623
    },
    {
     "cell_type": "code",
     "collapsed": false,
     "input": "y_1 = clf_1.predict(x_test)\ny_2 = clf_2.predict(x_test)",
     "language": "python",
     "metadata": {},
     "outputs": [],
     "prompt_number": 624
    },
    {
     "cell_type": "code",
     "collapsed": false,
     "input": "x  = range(0,len(y_test))\np1 = plt.plot(x,np.sort(y_1),c='r',alpha=0.9, label=\"max_depth=2\")\np2 = plt.plot(x,np.sort(y_2),c='b',alpha=1, label=\"max_depth=5\")\nplt.scatter(x,np.sort(y_test),c='g',alpha=0.2, label=\"true values\")\n#plt.plot(x,np.sort(y_pred),c='b',alpha=1)\nplt.legend(title=\"DecisionTree\",loc=\"best\")",
     "language": "python",
     "metadata": {},
     "outputs": [
      {
       "output_type": "pyout",
       "prompt_number": 645,
       "text": "<matplotlib.legend.Legend at 0xfa94990>"
      },
      {
       "output_type": "display_data",
       "png": "[encoded data removed]"
      }
     ],
     "prompt_number": 645
    },
    {
     "cell_type": "code",
     "collapsed": false,
     "input": "mean_absolute_error(y_test, y_2)",
     "language": "python",
     "metadata": {},
     "outputs": [
      {
       "output_type": "pyout",
       "prompt_number": 531,
       "text": "0.83812670172964343"
      }
     ],
     "prompt_number": 531
    },
    {
     "cell_type": "code",
     "collapsed": false,
     "input": "mean_squared_error(y_test, y_2)",
     "language": "python",
     "metadata": {},
     "outputs": [
      {
       "output_type": "pyout",
       "prompt_number": 532,
       "text": "2.2543869894517137"
      }
     ],
     "prompt_number": 532
    },
    {
     "cell_type": "code",
     "collapsed": false,
     "input": "explained_variance_score(y_test, y_2)",
     "language": "python",
     "metadata": {},
     "outputs": [
      {
       "output_type": "pyout",
       "prompt_number": 533,
       "text": "0.93433200334674826"
      }
     ],
     "prompt_number": 533
    },
    {
     "cell_type": "code",
     "collapsed": false,
     "input": "",
     "language": "python",
     "metadata": {},
     "outputs": [],
     "prompt_number": 477
    },
    {
     "cell_type": "code",
     "collapsed": false,
     "input": "",
     "language": "python",
     "metadata": {},
     "outputs": []
    }
   ],
   "metadata": {}
  }
 ]
}